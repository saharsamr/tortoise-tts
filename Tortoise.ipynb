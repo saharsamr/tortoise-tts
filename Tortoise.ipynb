{
  "nbformat": 4,
  "nbformat_minor": 0,
  "metadata": {
    "colab": {
      "provenance": [],
      "gpuType": "T4"
    },
    "kernelspec": {
      "name": "python3",
      "display_name": "Python 3"
    },
    "language_info": {
      "name": "python"
    },
    "accelerator": "GPU"
  },
  "cells": [
    {
      "cell_type": "markdown",
      "source": [
        "# Cloning the Repository"
      ],
      "metadata": {
        "id": "fBAc1b89cQZD"
      }
    },
    {
      "cell_type": "code",
      "source": [
        "!git clone https://github.com/saharsamr/tortoise-tts.git"
      ],
      "metadata": {
        "id": "4ELY59zILS9Y"
      },
      "execution_count": null,
      "outputs": []
    },
    {
      "cell_type": "markdown",
      "source": [
        "# Installing Dependencies"
      ],
      "metadata": {
        "id": "nmYZrzkucUA6"
      }
    },
    {
      "cell_type": "code",
      "source": [
        "%cd tortoise-tts\n",
        "!pip3 install ."
      ],
      "metadata": {
        "id": "BYxlGbiqLrbZ"
      },
      "execution_count": null,
      "outputs": []
    },
    {
      "cell_type": "markdown",
      "source": [
        "# Running the Codes\n"
      ],
      "metadata": {
        "id": "mitr4WtsYx2V"
      }
    },
    {
      "cell_type": "markdown",
      "source": [
        "The following command simply read the [text] file, with a random voice for every segment."
      ],
      "metadata": {
        "id": "x-Y3UHgaY14o"
      }
    },
    {
      "cell_type": "code",
      "source": [
        "!python tortoise/inference.py --textfile [text] --voice random"
      ],
      "metadata": {
        "id": "qHrNRnhzMEck"
      },
      "execution_count": null,
      "outputs": []
    },
    {
      "cell_type": "markdown",
      "source": [
        "This command, is same as the previous one, but using **--half True** and **--kv_cache True** will increase the speed. You can also use **--preset ultra_fast** for getting output faster (all of which indeed affect the quality)"
      ],
      "metadata": {
        "id": "lJ6OoI5hZFDI"
      }
    },
    {
      "cell_type": "code",
      "source": [
        "!python tortoise/inference.py --textfile [text] --voice random --half True --kv_cache True"
      ],
      "metadata": {
        "id": "8k6-j0dxW2Dt"
      },
      "execution_count": null,
      "outputs": []
    },
    {
      "cell_type": "markdown",
      "source": [
        "The following command uses a reference voice to generate the output. you have use the name of one of the directories in the tortoise/voices folder. and if you want to add one, you should add the voice here."
      ],
      "metadata": {
        "id": "rK9CY507Z_uW"
      }
    },
    {
      "cell_type": "code",
      "source": [
        "!python tortoise/inference.py --textfile text --voice angie --half True --kv_cache True"
      ],
      "metadata": {
        "id": "I0YWVg4iYsEX"
      },
      "execution_count": null,
      "outputs": []
    },
    {
      "cell_type": "markdown",
      "source": [
        "You can generate audio using different voices. the model will generate an audio for each of them (seperated by comma)."
      ],
      "metadata": {
        "id": "wfiCejdprYV7"
      }
    },
    {
      "cell_type": "code",
      "source": [
        "!python tortoise/inference.py --textfile text --voice angie,deniro --half True --kv_cache True"
      ],
      "metadata": {
        "id": "APtkHJzrgqrw"
      },
      "execution_count": null,
      "outputs": []
    },
    {
      "cell_type": "markdown",
      "source": [
        "You can use two voices in a single audio by using &. In the following command, an audio will be generated using angie and another one using deniro&emma"
      ],
      "metadata": {
        "id": "pqqnw-HYtFbi"
      }
    },
    {
      "cell_type": "code",
      "source": [
        "!python tortoise/inference.py --textfile text --voice angie,deniro&emma --half True --kv_cache True"
      ],
      "metadata": {
        "id": "922302UWtXFM"
      },
      "execution_count": null,
      "outputs": []
    }
  ]
}